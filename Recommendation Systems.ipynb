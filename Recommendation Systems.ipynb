{
 "cells": [
  {
   "cell_type": "code",
   "execution_count": 11,
   "metadata": {},
   "outputs": [
    {
     "name": "stdout",
     "output_type": "stream",
     "text": [
      "User id 3\n",
      "  Known positive:\n",
      "               Seven (Se7en) (1995)\n",
      "               Contact (1997)\n",
      "               Starship Troopers (1997)\n",
      "     Recommended:\n",
      "               Devil's Own, The (1997)\n",
      "               Volcano (1997)\n",
      "               Devil's Advocate, The (1997)\n",
      "User id 25\n",
      "  Known positive:\n",
      "               Dead Man Walking (1995)\n",
      "               Star Wars (1977)\n",
      "               Fargo (1996)\n",
      "     Recommended:\n",
      "               Fargo (1996)\n",
      "               English Patient, The (1996)\n",
      "               Contact (1997)\n",
      "User id 450\n",
      "  Known positive:\n",
      "               Contact (1997)\n",
      "               George of the Jungle (1997)\n",
      "               Event Horizon (1997)\n",
      "     Recommended:\n",
      "               Peacemaker, The (1997)\n",
      "               Game, The (1997)\n",
      "               Conspiracy Theory (1997)\n"
     ]
    }
   ],
   "source": [
    "import numpy as np\n",
    "from lightfm.datasets import fetch_movielens\n",
    "from lightfm import LightFM\n",
    "\n",
    "#fetch data and format it\n",
    "data = fetch_movielens(min_rating = 4.0)\n",
    "\n",
    "# print training and testing data\n",
    "#print repr(data['train'])\n",
    "#print repr(data['test'])\n",
    "\n",
    "#create model\n",
    "model = LightFM(loss='warp')\n",
    "#fit model\n",
    "model.fit(data['train'],epochs = 30,num_threads = 2)\n",
    "\n",
    "def sample_recommendation(model,data,user_ids):\n",
    "    #no of users and movies in training data\n",
    "    n_users,n_items = data['train'].shape\n",
    "    #generate recommendations for each user we input\n",
    "    for user_id in user_ids:\n",
    "        #movies they already liked\n",
    "        known_positives = data['item_labels'][data['train'].tocsr()[user_id].indices]\n",
    "        #movies that our model predicts they would like\n",
    "        scores = model.predict(user_id,np.arange(n_items))\n",
    "        #rank them in order of most likely to least\n",
    "        top_items = data['item_labels'][np.argsort(-scores)]\n",
    "        #print the results\n",
    "        print \"User id %s\"% user_id\n",
    "        print \"  Known positive:\"\n",
    "        for x in known_positives[:3]:\n",
    "            print \"               %s\" % x\n",
    "        print \"     Recommended:\"\n",
    "        for x in top_items[:3]:\n",
    "            print \"               %s\" % x\n",
    "        \n",
    "sample_recommendation(model,data,[3,25,450])"
   ]
  }
 ],
 "metadata": {
  "kernelspec": {
   "display_name": "Python 2",
   "language": "python",
   "name": "python2"
  },
  "language_info": {
   "codemirror_mode": {
    "name": "ipython",
    "version": 2
   },
   "file_extension": ".py",
   "mimetype": "text/x-python",
   "name": "python",
   "nbconvert_exporter": "python",
   "pygments_lexer": "ipython2",
   "version": "2.7.14"
  }
 },
 "nbformat": 4,
 "nbformat_minor": 2
}
